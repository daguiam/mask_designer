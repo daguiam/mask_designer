{
 "cells": [
  {
   "cell_type": "code",
   "execution_count": 24,
   "metadata": {},
   "outputs": [],
   "source": [
    "import pya \n",
    "\n",
    "\n",
    "\n",
    "\n",
    "import sys\n",
    "import os\n",
    "from matplotlib import pyplot as plt \n",
    "import numpy as np \n",
    "\n",
    "from scipy.constants import micro, nano, milli\n",
    "from scipy import ndimage\n"
   ]
  },
  {
   "cell_type": "code",
   "execution_count": 25,
   "metadata": {},
   "outputs": [],
   "source": [
    "\n",
    "\n",
    "def create_poly_dicing_corner(length, width):\n",
    "    poly = pya.DPolygon([ \n",
    "    pya.DPoint(0, 0), pya.DPoint(0, length),  pya.DPoint(width, length),\n",
    "    pya.DPoint(width, width),  pya.DPoint(length, width), pya.DPoint(length, width),\n",
    "    pya.DPoint(length, 0)\n",
    "    ])\n",
    "    return poly\n",
    "\n",
    "def create_corners_cell(layout, field_width, field_height, corner_length, corner_width, layer=\"layer127\"):\n",
    "    cell_corner_single = layout.create_cell('corner_instance')\n",
    "\n",
    "    cell_corner = layout.create_cell('corners')\n",
    "    layer_corners = layout.layer(layer)\n",
    "    corner_polygon = create_poly_dicing_corner(corner_length, corner_width)\n",
    "\n",
    "    cell_corner_single.shapes(layer_corners).insert(corner_polygon)\n",
    "\n",
    "\n",
    "    instance = pya.DCellInstArray(cell_corner_single.cell_index(),\n",
    "                                pya.DTrans(pya.DTrans.R0, pya.DPoint(-field_width/2, -field_height/2))\n",
    "                                )\n",
    "    cell_corner.insert(instance)\n",
    "\n",
    "    instance = pya.DCellInstArray(cell_corner_single.cell_index(),\n",
    "                                pya.DTrans(pya.DTrans.R270, pya.DPoint(-field_width/2, field_height/2))\n",
    "                                )\n",
    "    cell_corner.insert(instance)\n",
    "\n",
    "\n",
    "    instance = pya.DCellInstArray(cell_corner_single.cell_index(),\n",
    "                                pya.DTrans(pya.DTrans.R180, pya.DPoint(field_width/2, field_height/2))\n",
    "                                )\n",
    "    cell_corner.insert(instance)\n",
    "\n",
    "    instance = pya.DCellInstArray(cell_corner_single.cell_index(),\n",
    "                                pya.DTrans(pya.DTrans.R90, pya.DPoint(field_width/2, -field_height/2))\n",
    "                                )\n",
    "    cell_corner.insert(instance)\n",
    "\n",
    "\n",
    "    cell_corner.flatten(-1, True)\n",
    "\n",
    "    return cell_corner\n",
    "\n",
    "\n",
    "\n",
    "def create_label_cell(layout, text, position=(0,0), rotate=True, mag=1000, layer=\"layer127\"):\n",
    "    \n",
    "\n",
    "    cell_label = layout.create_cell('label')\n",
    "    layer_label = layout.layer(layer)\n",
    "\n",
    "\n",
    "    gen = pya.TextGenerator.default_generator()\n",
    "    \n",
    "    region = gen.text(text, layout.dbu, mag)\n",
    "    if rotate:\n",
    "        cell_label.shapes(layer_label).insert(region, pya.DTrans(pya.DTrans.R90,pya.DVector(position[0], position[1])))\n",
    "    else:\n",
    "        cell_label.shapes(layer_label).insert(region, pya.DTrans(pya.DVector(position[0], position[1])))\n",
    "    return cell_label"
   ]
  },
  {
   "cell_type": "code",
   "execution_count": null,
   "metadata": {},
   "outputs": [],
   "source": [
    "            info = self.layout.get_info(ly)\n",
    "            info.name = \"layer%03d\"%self.mask_grayvalues[idx]\n",
    "            newinfo = pya.LayerInfo(info.name)\n",
    "\n",
    "            # print(info)\n",
    "            self.layout.set_info(ly, newinfo)"
   ]
  },
  {
   "cell_type": "markdown",
   "metadata": {},
   "source": [
    "# P1 Dammann 13x11 direct layout"
   ]
  },
  {
   "cell_type": "code",
   "execution_count": 32,
   "metadata": {},
   "outputs": [
    {
     "data": {
      "text/plain": [
       "<klayout.dbcore.Layout at 0x238a6d32fd0>"
      ]
     },
     "execution_count": 32,
     "metadata": {},
     "output_type": "execute_result"
    }
   ],
   "source": [
    "\n",
    "\n",
    "filename = \"Dammann_5x5mm 11x13 with 0.7deg pitch_centered.dxf\"\n",
    "\n",
    "\n",
    "# loads filename\n",
    "layout = pya.Layout()\n",
    "layout.read(filename)\n",
    "\n",
    "\n",
    "# get top cell\n",
    "top = layout.top_cell()\n",
    "\n",
    "corner_length = 500#*micro\n",
    "corner_width = 100#*micro\n",
    "\n",
    "field_width = 10000 #*micro\n",
    "field_height = 10000 #*micro\n",
    "\n",
    "\n",
    "\n",
    "trans = pya.Trans(pya.Point(0,0))\n",
    "\n",
    "\n",
    "layer = \"mask\"\n",
    "cell = create_corners_cell(layout, field_width, field_height, corner_length, corner_width, layer)\n",
    "top.insert(pya.DCellInstArray(cell.cell_index(), trans))\n",
    "\n",
    "\n",
    "label  = os.path.splitext(filename)[0]\n",
    "label = \"P1_13x11_50um_633nm\"\n",
    "cell = create_label_cell(layout, label, position=(-4000, -4000), rotate=False, mag=400, layer=layer)\n",
    "top.insert(pya.DCellInstArray(cell.cell_index(), trans))\n",
    "\n",
    "\n",
    "# top.flatten(-1, True)\n",
    "\n",
    "outfilename = \"P1_13x11_50um_633nm.dxf\"\n",
    "\n",
    "layout.write(outfilename)\n"
   ]
  },
  {
   "cell_type": "code",
   "execution_count": 37,
   "metadata": {},
   "outputs": [],
   "source": [
    "# P3 sens ind\n"
   ]
  },
  {
   "cell_type": "code",
   "execution_count": 40,
   "metadata": {},
   "outputs": [
    {
     "data": {
      "text/plain": [
       "['0' (0/0), 1/0]"
      ]
     },
     "execution_count": 40,
     "metadata": {},
     "output_type": "execute_result"
    }
   ],
   "source": [
    "\n",
    "\n",
    "filename = \"tile_sensind_logo_1000x1000um_instance.dxf\"\n",
    "\n",
    "\n",
    "# loads filename\n",
    "layout = pya.Layout()\n",
    "layout.read(filename)\n",
    "\n",
    "layout.layer_infos()"
   ]
  },
  {
   "cell_type": "code",
   "execution_count": 59,
   "metadata": {},
   "outputs": [
    {
     "name": "stdout",
     "output_type": "stream",
     "text": [
      "loading file:  tile_inl_logo_1024x1024um_instance.dxf\n",
      "writing file:  P2_INL_pyMOE.dxf\n"
     ]
    },
    {
     "data": {
      "text/plain": [
       "<klayout.dbcore.Layout at 0x238a7106ad0>"
      ]
     },
     "execution_count": 59,
     "metadata": {},
     "output_type": "execute_result"
    }
   ],
   "source": [
    "# Sens Ind Logo inverted\n",
    "\n",
    "filename = \"tile_inl_logo_1024x1024um_instance.dxf\"\n",
    "print(\"loading file: \", filename)\n",
    "\n",
    "\n",
    "# loads filename\n",
    "layout = pya.Layout()\n",
    "layout.read(filename)\n",
    "\n",
    "\n",
    "# get top cell\n",
    "top = layout.top_cell()\n",
    "\n",
    "corner_length = 500#*micro\n",
    "corner_width = 100#*micro\n",
    "\n",
    "field_width = 10000 #*micro\n",
    "field_height = 10000 #*micro\n",
    "\n",
    "\n",
    "\n",
    "trans = pya.Trans(pya.Point(0,0))\n",
    "layer = \"mask\"\n",
    "\n",
    "layer_idx = 1\n",
    "info = layout.get_info(layer_idx)\n",
    "info.name = layer\n",
    "newinfo = pya.LayerInfo(info.name)\n",
    "\n",
    "# print(info)\n",
    "layout.set_info(layer_idx, newinfo)\n",
    "\n",
    "\n",
    "\n",
    "cell = create_corners_cell(layout, field_width, field_height, corner_length, corner_width, layer)\n",
    "top.insert(pya.DCellInstArray(cell.cell_index(), trans))\n",
    "\n",
    "\n",
    "label  = os.path.splitext(filename)[0]\n",
    "label = \"P2_INL_pyMOE\"\n",
    "cell = create_label_cell(layout, label, position=(-4000, -4000), rotate=False, mag=400, layer=layer)\n",
    "top.insert(pya.DCellInstArray(cell.cell_index(), trans))\n",
    "\n",
    "\n",
    "# top.flatten(-1, True)\n",
    "\n",
    "outfilename = \"P2_INL_pyMOE.dxf\"\n",
    "print(\"writing file: \", outfilename)\n",
    "\n",
    "layout.write(outfilename)\n"
   ]
  },
  {
   "cell_type": "code",
   "execution_count": 58,
   "metadata": {},
   "outputs": [
    {
     "name": "stdout",
     "output_type": "stream",
     "text": [
      "loading file:  tile_inv_inl_logo_1024x1024um_instance.dxf\n",
      "writing file:  P2i_INL_pyMOE.dxf\n"
     ]
    },
    {
     "data": {
      "text/plain": [
       "<klayout.dbcore.Layout at 0x238a7107cd0>"
      ]
     },
     "execution_count": 58,
     "metadata": {},
     "output_type": "execute_result"
    }
   ],
   "source": [
    "# Sens Ind Logo inverted\n",
    "\n",
    "filename = \"tile_inv_inl_logo_1024x1024um_instance.dxf\"\n",
    "print(\"loading file: \", filename)\n",
    "\n",
    "\n",
    "# loads filename\n",
    "layout = pya.Layout()\n",
    "layout.read(filename)\n",
    "\n",
    "\n",
    "# get top cell\n",
    "top = layout.top_cell()\n",
    "\n",
    "corner_length = 500#*micro\n",
    "corner_width = 100#*micro\n",
    "\n",
    "field_width = 10000 #*micro\n",
    "field_height = 10000 #*micro\n",
    "\n",
    "\n",
    "\n",
    "trans = pya.Trans(pya.Point(0,0))\n",
    "layer = \"mask\"\n",
    "\n",
    "layer_idx = 1\n",
    "info = layout.get_info(layer_idx)\n",
    "info.name = layer\n",
    "newinfo = pya.LayerInfo(info.name)\n",
    "\n",
    "# print(info)\n",
    "layout.set_info(layer_idx, newinfo)\n",
    "\n",
    "\n",
    "\n",
    "cell = create_corners_cell(layout, field_width, field_height, corner_length, corner_width, layer)\n",
    "top.insert(pya.DCellInstArray(cell.cell_index(), trans))\n",
    "\n",
    "\n",
    "label  = os.path.splitext(filename)[0]\n",
    "label = \"P2i_INL_pyMOE\"\n",
    "cell = create_label_cell(layout, label, position=(-4000, -4000), rotate=False, mag=400, layer=layer)\n",
    "top.insert(pya.DCellInstArray(cell.cell_index(), trans))\n",
    "\n",
    "\n",
    "# top.flatten(-1, True)\n",
    "\n",
    "outfilename = \"P2i_INL_pyMOE.dxf\"\n",
    "print(\"writing file: \", outfilename)\n",
    "\n",
    "layout.write(outfilename)\n"
   ]
  },
  {
   "cell_type": "code",
   "execution_count": null,
   "metadata": {},
   "outputs": [],
   "source": []
  },
  {
   "cell_type": "code",
   "execution_count": 42,
   "metadata": {},
   "outputs": [
    {
     "name": "stdout",
     "output_type": "stream",
     "text": [
      "loading file:  tile_inv_sensind_logo_1000x1000um_instance.dxf\n",
      "writing file:  P3i_SensInd_pyMOE.dxf\n"
     ]
    },
    {
     "data": {
      "text/plain": [
       "<klayout.dbcore.Layout at 0x238a70e9ad0>"
      ]
     },
     "execution_count": 42,
     "metadata": {},
     "output_type": "execute_result"
    }
   ],
   "source": [
    "# Sens Ind Logo inverted\n",
    "\n",
    "filename = \"tile_inv_sensind_logo_1000x1000um_instance.dxf\"\n",
    "print(\"loading file: \", filename)\n",
    "\n",
    "\n",
    "# loads filename\n",
    "layout = pya.Layout()\n",
    "layout.read(filename)\n",
    "\n",
    "\n",
    "# get top cell\n",
    "top = layout.top_cell()\n",
    "\n",
    "corner_length = 500#*micro\n",
    "corner_width = 100#*micro\n",
    "\n",
    "field_width = 10000 #*micro\n",
    "field_height = 10000 #*micro\n",
    "\n",
    "\n",
    "\n",
    "trans = pya.Trans(pya.Point(0,0))\n",
    "layer = \"mask\"\n",
    "\n",
    "layer_idx = 1\n",
    "info = layout.get_info(layer_idx)\n",
    "info.name = layer\n",
    "newinfo = pya.LayerInfo(info.name)\n",
    "\n",
    "# print(info)\n",
    "layout.set_info(layer_idx, newinfo)\n",
    "\n",
    "\n",
    "\n",
    "cell = create_corners_cell(layout, field_width, field_height, corner_length, corner_width, layer)\n",
    "top.insert(pya.DCellInstArray(cell.cell_index(), trans))\n",
    "\n",
    "\n",
    "label  = os.path.splitext(filename)[0]\n",
    "label = \"P3i_SensInd_pyMOE\"\n",
    "cell = create_label_cell(layout, label, position=(-4000, -4000), rotate=False, mag=400, layer=layer)\n",
    "top.insert(pya.DCellInstArray(cell.cell_index(), trans))\n",
    "\n",
    "\n",
    "# top.flatten(-1, True)\n",
    "\n",
    "outfilename = \"P3i_SensInd_pyMOE.dxf\"\n",
    "print(\"writing file: \", outfilename)\n",
    "\n",
    "layout.write(outfilename)\n"
   ]
  },
  {
   "cell_type": "code",
   "execution_count": 45,
   "metadata": {},
   "outputs": [
    {
     "name": "stdout",
     "output_type": "stream",
     "text": [
      "loading file:  tile_sensind_logo_1000x1000um_instance.dxf\n",
      "writing file:  P3_SensInd_pyMOE.dxf\n"
     ]
    },
    {
     "data": {
      "text/plain": [
       "<klayout.dbcore.Layout at 0x238a6d356d0>"
      ]
     },
     "execution_count": 45,
     "metadata": {},
     "output_type": "execute_result"
    }
   ],
   "source": [
    "# Sens Ind Logo\n",
    "\n",
    "\n",
    "filename = \"tile_sensind_logo_1000x1000um_instance.dxf\"\n",
    "print(\"loading file: \", filename)\n",
    "\n",
    "\n",
    "# loads filename\n",
    "layout = pya.Layout()\n",
    "layout.read(filename)\n",
    "\n",
    "\n",
    "# get top cell\n",
    "top = layout.top_cell()\n",
    "\n",
    "corner_length = 500#*micro\n",
    "corner_width = 100#*micro\n",
    "\n",
    "field_width = 10000 #*micro\n",
    "field_height = 10000 #*micro\n",
    "\n",
    "\n",
    "\n",
    "trans = pya.Trans(pya.Point(0,0))\n",
    "layer = \"mask\"\n",
    "\n",
    "layer_idx = 1\n",
    "info = layout.get_info(layer_idx)\n",
    "info.name = layer\n",
    "newinfo = pya.LayerInfo(info.name)\n",
    "\n",
    "# print(info)\n",
    "layout.set_info(layer_idx, newinfo)\n",
    "\n",
    "\n",
    "\n",
    "cell = create_corners_cell(layout, field_width, field_height, corner_length, corner_width, layer)\n",
    "top.insert(pya.DCellInstArray(cell.cell_index(), trans))\n",
    "\n",
    "\n",
    "label  = os.path.splitext(filename)[0]\n",
    "label = \"P3_SensInd_pyMOE\"\n",
    "cell = create_label_cell(layout, label, position=(-4000, -4000), rotate=False, mag=400, layer=layer)\n",
    "top.insert(pya.DCellInstArray(cell.cell_index(), trans))\n",
    "\n",
    "\n",
    "# top.flatten(-1, True)\n",
    "\n",
    "outfilename = \"P3_SensInd_pyMOE.dxf\"\n",
    "print(\"writing file: \", outfilename)\n",
    "\n",
    "layout.write(outfilename)\n"
   ]
  },
  {
   "cell_type": "code",
   "execution_count": 46,
   "metadata": {},
   "outputs": [],
   "source": [
    "# matlab "
   ]
  },
  {
   "cell_type": "code",
   "execution_count": null,
   "metadata": {},
   "outputs": [],
   "source": []
  },
  {
   "cell_type": "markdown",
   "metadata": {},
   "source": [
    "## Matlab does"
   ]
  },
  {
   "cell_type": "code",
   "execution_count": null,
   "metadata": {},
   "outputs": [],
   "source": []
  },
  {
   "cell_type": "code",
   "execution_count": 53,
   "metadata": {},
   "outputs": [
    {
     "name": "stdout",
     "output_type": "stream",
     "text": [
      "loading file:  matlab masks/tile_Damannholo_mat.dxf\n",
      "writing file:  P4_13x11_Circles_mat.dxf\n"
     ]
    },
    {
     "data": {
      "text/plain": [
       "<klayout.dbcore.Layout at 0x238a7104550>"
      ]
     },
     "execution_count": 53,
     "metadata": {},
     "output_type": "execute_result"
    }
   ],
   "source": [
    "# Sens Ind Logo\n",
    "\n",
    "\n",
    "filename = \"matlab masks/tile_Damannholo_mat.dxf\"\n",
    "print(\"loading file: \", filename)\n",
    "\n",
    "\n",
    "# loads filename\n",
    "layout = pya.Layout()\n",
    "layout.read(filename)\n",
    "\n",
    "\n",
    "# get top cell\n",
    "top = layout.top_cell()\n",
    "\n",
    "corner_length = 500#*micro\n",
    "corner_width = 100#*micro\n",
    "\n",
    "field_width = 10000 #*micro\n",
    "field_height = 10000 #*micro\n",
    "\n",
    "\n",
    "\n",
    "trans = pya.Trans(pya.Point(0,0))\n",
    "layer = \"mask\"\n",
    "\n",
    "layer_idx = 1\n",
    "info = layout.get_info(layer_idx)\n",
    "info.name = layer\n",
    "newinfo = pya.LayerInfo(info.name)\n",
    "\n",
    "# print(info)\n",
    "layout.set_info(layer_idx, newinfo)\n",
    "\n",
    "\n",
    "\n",
    "cell = create_corners_cell(layout, field_width, field_height, corner_length, corner_width, layer)\n",
    "top.insert(pya.DCellInstArray(cell.cell_index(), trans))\n",
    "\n",
    "\n",
    "label  = os.path.splitext(filename)[0]\n",
    "label = \"P4_13x11_Circles_mat\"\n",
    "cell = create_label_cell(layout, label, position=(-4000, -4000), rotate=False, mag=400, layer=layer)\n",
    "top.insert(pya.DCellInstArray(cell.cell_index(), trans))\n",
    "\n",
    "\n",
    "# top.flatten(-1, True)\n",
    "\n",
    "outfilename = \"P4_13x11_Circles_mat.dxf\"\n",
    "print(\"writing file: \", outfilename)\n",
    "\n",
    "layout.write(outfilename)\n"
   ]
  },
  {
   "cell_type": "code",
   "execution_count": null,
   "metadata": {},
   "outputs": [],
   "source": []
  },
  {
   "cell_type": "code",
   "execution_count": 54,
   "metadata": {},
   "outputs": [
    {
     "name": "stdout",
     "output_type": "stream",
     "text": [
      "loading file:  matlab masks/tile_inv_Damannholo_mat.dxf\n",
      "writing file:  P4i_13x11_Circles_mat.dxf\n"
     ]
    },
    {
     "data": {
      "text/plain": [
       "<klayout.dbcore.Layout at 0x238a71047d0>"
      ]
     },
     "execution_count": 54,
     "metadata": {},
     "output_type": "execute_result"
    }
   ],
   "source": [
    "# Sens Ind Logo\n",
    "\n",
    "\n",
    "filename = \"matlab masks/tile_inv_Damannholo_mat.dxf\"\n",
    "print(\"loading file: \", filename)\n",
    "\n",
    "\n",
    "# loads filename\n",
    "layout = pya.Layout()\n",
    "layout.read(filename)\n",
    "\n",
    "\n",
    "# get top cell\n",
    "top = layout.top_cell()\n",
    "\n",
    "corner_length = 500#*micro\n",
    "corner_width = 100#*micro\n",
    "\n",
    "field_width = 10000 #*micro\n",
    "field_height = 10000 #*micro\n",
    "\n",
    "\n",
    "\n",
    "trans = pya.Trans(pya.Point(0,0))\n",
    "layer = \"mask\"\n",
    "\n",
    "layer_idx = 1\n",
    "info = layout.get_info(layer_idx)\n",
    "info.name = layer\n",
    "newinfo = pya.LayerInfo(info.name)\n",
    "\n",
    "# print(info)\n",
    "layout.set_info(layer_idx, newinfo)\n",
    "\n",
    "\n",
    "\n",
    "cell = create_corners_cell(layout, field_width, field_height, corner_length, corner_width, layer)\n",
    "top.insert(pya.DCellInstArray(cell.cell_index(), trans))\n",
    "\n",
    "\n",
    "label  = os.path.splitext(filename)[0]\n",
    "label = \"P4i_13x11_Circles_mat\"\n",
    "cell = create_label_cell(layout, label, position=(-4000, -4000), rotate=False, mag=400, layer=layer)\n",
    "top.insert(pya.DCellInstArray(cell.cell_index(), trans))\n",
    "\n",
    "\n",
    "# top.flatten(-1, True)\n",
    "\n",
    "outfilename = \"P4i_13x11_Circles_mat.dxf\"\n",
    "print(\"writing file: \", outfilename)\n",
    "\n",
    "layout.write(outfilename)\n"
   ]
  },
  {
   "cell_type": "code",
   "execution_count": null,
   "metadata": {},
   "outputs": [],
   "source": []
  },
  {
   "cell_type": "code",
   "execution_count": null,
   "metadata": {},
   "outputs": [],
   "source": []
  },
  {
   "cell_type": "code",
   "execution_count": 51,
   "metadata": {},
   "outputs": [
    {
     "name": "stdout",
     "output_type": "stream",
     "text": [
      "loading file:  matlab masks/tile_SensitiveLogoholo_mat.dxf\n",
      "writing file:  P5_SensInd_mat.dxf\n"
     ]
    },
    {
     "data": {
      "text/plain": [
       "<klayout.dbcore.Layout at 0x238a70e86d0>"
      ]
     },
     "execution_count": 51,
     "metadata": {},
     "output_type": "execute_result"
    }
   ],
   "source": [
    "# Sens Ind Logo\n",
    "\n",
    "\n",
    "filename = \"matlab masks/tile_SensitiveLogoholo_mat.dxf\"\n",
    "print(\"loading file: \", filename)\n",
    "\n",
    "\n",
    "# loads filename\n",
    "layout = pya.Layout()\n",
    "layout.read(filename)\n",
    "\n",
    "\n",
    "# get top cell\n",
    "top = layout.top_cell()\n",
    "\n",
    "corner_length = 500#*micro\n",
    "corner_width = 100#*micro\n",
    "\n",
    "field_width = 10000 #*micro\n",
    "field_height = 10000 #*micro\n",
    "\n",
    "\n",
    "\n",
    "trans = pya.Trans(pya.Point(0,0))\n",
    "layer = \"mask\"\n",
    "\n",
    "layer_idx = 1\n",
    "info = layout.get_info(layer_idx)\n",
    "info.name = layer\n",
    "newinfo = pya.LayerInfo(info.name)\n",
    "\n",
    "# print(info)\n",
    "layout.set_info(layer_idx, newinfo)\n",
    "\n",
    "\n",
    "\n",
    "cell = create_corners_cell(layout, field_width, field_height, corner_length, corner_width, layer)\n",
    "top.insert(pya.DCellInstArray(cell.cell_index(), trans))\n",
    "\n",
    "\n",
    "label  = os.path.splitext(filename)[0]\n",
    "label = \"P5_SensInd_mat\"\n",
    "cell = create_label_cell(layout, label, position=(-4000, -4000), rotate=False, mag=400, layer=layer)\n",
    "top.insert(pya.DCellInstArray(cell.cell_index(), trans))\n",
    "\n",
    "\n",
    "# top.flatten(-1, True)\n",
    "\n",
    "outfilename = \"P5_SensInd_mat.dxf\"\n",
    "print(\"writing file: \", outfilename)\n",
    "\n",
    "layout.write(outfilename)\n"
   ]
  },
  {
   "cell_type": "code",
   "execution_count": 52,
   "metadata": {},
   "outputs": [
    {
     "name": "stdout",
     "output_type": "stream",
     "text": [
      "loading file:  matlab masks/tile_inv_SensitiveLogoholo_mat.dxf\n",
      "writing file:  P5i_SensInd_mat.dxf\n"
     ]
    },
    {
     "data": {
      "text/plain": [
       "<klayout.dbcore.Layout at 0x238a71069d0>"
      ]
     },
     "execution_count": 52,
     "metadata": {},
     "output_type": "execute_result"
    }
   ],
   "source": [
    "# Sens Ind Logo\n",
    "\n",
    "\n",
    "filename = \"matlab masks/tile_inv_SensitiveLogoholo_mat.dxf\"\n",
    "print(\"loading file: \", filename)\n",
    "\n",
    "\n",
    "# loads filename\n",
    "layout = pya.Layout()\n",
    "layout.read(filename)\n",
    "\n",
    "\n",
    "# get top cell\n",
    "top = layout.top_cell()\n",
    "\n",
    "corner_length = 500#*micro\n",
    "corner_width = 100#*micro\n",
    "\n",
    "field_width = 10000 #*micro\n",
    "field_height = 10000 #*micro\n",
    "\n",
    "\n",
    "\n",
    "trans = pya.Trans(pya.Point(0,0))\n",
    "layer = \"mask\"\n",
    "\n",
    "layer_idx = 1\n",
    "info = layout.get_info(layer_idx)\n",
    "info.name = layer\n",
    "newinfo = pya.LayerInfo(info.name)\n",
    "\n",
    "# print(info)\n",
    "layout.set_info(layer_idx, newinfo)\n",
    "\n",
    "\n",
    "\n",
    "cell = create_corners_cell(layout, field_width, field_height, corner_length, corner_width, layer)\n",
    "top.insert(pya.DCellInstArray(cell.cell_index(), trans))\n",
    "\n",
    "\n",
    "label  = os.path.splitext(filename)[0]\n",
    "label = \"P5i_SensInd_mat\"\n",
    "cell = create_label_cell(layout, label, position=(-4000, -4000), rotate=False, mag=400, layer=layer)\n",
    "top.insert(pya.DCellInstArray(cell.cell_index(), trans))\n",
    "\n",
    "\n",
    "# top.flatten(-1, True)\n",
    "\n",
    "outfilename = \"P5i_SensInd_mat.dxf\"\n",
    "print(\"writing file: \", outfilename)\n",
    "\n",
    "layout.write(outfilename)\n"
   ]
  },
  {
   "cell_type": "code",
   "execution_count": null,
   "metadata": {},
   "outputs": [],
   "source": []
  },
  {
   "cell_type": "code",
   "execution_count": null,
   "metadata": {},
   "outputs": [],
   "source": []
  },
  {
   "cell_type": "code",
   "execution_count": null,
   "metadata": {},
   "outputs": [],
   "source": []
  },
  {
   "cell_type": "code",
   "execution_count": 50,
   "metadata": {},
   "outputs": [
    {
     "name": "stdout",
     "output_type": "stream",
     "text": [
      "loading file:  matlab masks/tile_Crossesholo.dxf\n",
      "writing file:  P6_Crosses_mat.dxf\n"
     ]
    },
    {
     "data": {
      "text/plain": [
       "<klayout.dbcore.Layout at 0x238a71057d0>"
      ]
     },
     "execution_count": 50,
     "metadata": {},
     "output_type": "execute_result"
    }
   ],
   "source": [
    "# Sens Ind Logo\n",
    "\n",
    "\n",
    "filename = \"matlab masks/tile_Crossesholo.dxf\"\n",
    "print(\"loading file: \", filename)\n",
    "\n",
    "\n",
    "# loads filename\n",
    "layout = pya.Layout()\n",
    "layout.read(filename)\n",
    "\n",
    "\n",
    "# get top cell\n",
    "top = layout.top_cell()\n",
    "\n",
    "corner_length = 500#*micro\n",
    "corner_width = 100#*micro\n",
    "\n",
    "field_width = 10000 #*micro\n",
    "field_height = 10000 #*micro\n",
    "\n",
    "\n",
    "\n",
    "trans = pya.Trans(pya.Point(0,0))\n",
    "layer = \"mask\"\n",
    "\n",
    "layer_idx = 1\n",
    "info = layout.get_info(layer_idx)\n",
    "info.name = layer\n",
    "newinfo = pya.LayerInfo(info.name)\n",
    "\n",
    "# print(info)\n",
    "layout.set_info(layer_idx, newinfo)\n",
    "\n",
    "\n",
    "\n",
    "cell = create_corners_cell(layout, field_width, field_height, corner_length, corner_width, layer)\n",
    "top.insert(pya.DCellInstArray(cell.cell_index(), trans))\n",
    "\n",
    "\n",
    "label  = os.path.splitext(filename)[0]\n",
    "label = \"P6_Crosses_mat\"\n",
    "cell = create_label_cell(layout, label, position=(-4000, -4000), rotate=False, mag=400, layer=layer)\n",
    "top.insert(pya.DCellInstArray(cell.cell_index(), trans))\n",
    "\n",
    "\n",
    "# top.flatten(-1, True)\n",
    "\n",
    "outfilename = \"P6_Crosses_mat.dxf\"\n",
    "print(\"writing file: \", outfilename)\n",
    "\n",
    "layout.write(outfilename)\n"
   ]
  },
  {
   "cell_type": "code",
   "execution_count": 49,
   "metadata": {},
   "outputs": [
    {
     "name": "stdout",
     "output_type": "stream",
     "text": [
      "loading file:  matlab masks/tile_inv_Crossesholo.dxf\n",
      "writing file:  P6i_Crosses_mat.dxf\n"
     ]
    },
    {
     "data": {
      "text/plain": [
       "<klayout.dbcore.Layout at 0x238a70e8350>"
      ]
     },
     "execution_count": 49,
     "metadata": {},
     "output_type": "execute_result"
    }
   ],
   "source": [
    "# Sens Ind Logo\n",
    "\n",
    "\n",
    "filename = \"matlab masks/tile_inv_Crossesholo.dxf\"\n",
    "print(\"loading file: \", filename)\n",
    "\n",
    "\n",
    "# loads filename\n",
    "layout = pya.Layout()\n",
    "layout.read(filename)\n",
    "\n",
    "\n",
    "# get top cell\n",
    "top = layout.top_cell()\n",
    "\n",
    "corner_length = 500#*micro\n",
    "corner_width = 100#*micro\n",
    "\n",
    "field_width = 10000 #*micro\n",
    "field_height = 10000 #*micro\n",
    "\n",
    "\n",
    "\n",
    "trans = pya.Trans(pya.Point(0,0))\n",
    "layer = \"mask\"\n",
    "\n",
    "layer_idx = 1\n",
    "info = layout.get_info(layer_idx)\n",
    "info.name = layer\n",
    "newinfo = pya.LayerInfo(info.name)\n",
    "\n",
    "# print(info)\n",
    "layout.set_info(layer_idx, newinfo)\n",
    "\n",
    "\n",
    "\n",
    "cell = create_corners_cell(layout, field_width, field_height, corner_length, corner_width, layer)\n",
    "top.insert(pya.DCellInstArray(cell.cell_index(), trans))\n",
    "\n",
    "\n",
    "label  = os.path.splitext(filename)[0]\n",
    "label = \"P6i_Crosses_mat\"\n",
    "cell = create_label_cell(layout, label, position=(-4000, -4000), rotate=False, mag=400, layer=layer)\n",
    "top.insert(pya.DCellInstArray(cell.cell_index(), trans))\n",
    "\n",
    "\n",
    "# top.flatten(-1, True)\n",
    "\n",
    "outfilename = \"P6i_Crosses_mat.dxf\"\n",
    "print(\"writing file: \", outfilename)\n",
    "\n",
    "layout.write(outfilename)\n"
   ]
  },
  {
   "cell_type": "code",
   "execution_count": 55,
   "metadata": {},
   "outputs": [
    {
     "name": "stdout",
     "output_type": "stream",
     "text": [
      "loading file:  matlab masks/tile_Linesholo_mat.dxf\n",
      "writing file:  P7_Lines_mat.dxf\n"
     ]
    },
    {
     "data": {
      "text/plain": [
       "<klayout.dbcore.Layout at 0x238a7107050>"
      ]
     },
     "execution_count": 55,
     "metadata": {},
     "output_type": "execute_result"
    }
   ],
   "source": [
    "# Sens Ind Logo\n",
    "\n",
    "\n",
    "filename = \"matlab masks/tile_Linesholo_mat.dxf\"\n",
    "print(\"loading file: \", filename)\n",
    "\n",
    "\n",
    "# loads filename\n",
    "layout = pya.Layout()\n",
    "layout.read(filename)\n",
    "\n",
    "\n",
    "# get top cell\n",
    "top = layout.top_cell()\n",
    "\n",
    "corner_length = 500#*micro\n",
    "corner_width = 100#*micro\n",
    "\n",
    "field_width = 10000 #*micro\n",
    "field_height = 10000 #*micro\n",
    "\n",
    "\n",
    "\n",
    "trans = pya.Trans(pya.Point(0,0))\n",
    "layer = \"mask\"\n",
    "\n",
    "layer_idx = 1\n",
    "info = layout.get_info(layer_idx)\n",
    "info.name = layer\n",
    "newinfo = pya.LayerInfo(info.name)\n",
    "\n",
    "# print(info)\n",
    "layout.set_info(layer_idx, newinfo)\n",
    "\n",
    "\n",
    "\n",
    "cell = create_corners_cell(layout, field_width, field_height, corner_length, corner_width, layer)\n",
    "top.insert(pya.DCellInstArray(cell.cell_index(), trans))\n",
    "\n",
    "\n",
    "label  = os.path.splitext(filename)[0]\n",
    "label = \"P7_Lines_mat\"\n",
    "cell = create_label_cell(layout, label, position=(-4000, -4000), rotate=False, mag=400, layer=layer)\n",
    "top.insert(pya.DCellInstArray(cell.cell_index(), trans))\n",
    "\n",
    "\n",
    "# top.flatten(-1, True)\n",
    "\n",
    "outfilename = \"P7_Lines_mat.dxf\"\n",
    "print(\"writing file: \", outfilename)\n",
    "\n",
    "layout.write(outfilename)\n"
   ]
  },
  {
   "cell_type": "code",
   "execution_count": 56,
   "metadata": {},
   "outputs": [
    {
     "name": "stdout",
     "output_type": "stream",
     "text": [
      "loading file:  matlab masks/tile_inv_Linesholo_mat.dxf\n",
      "writing file:  P7i_Lines_mat.dxf\n"
     ]
    },
    {
     "data": {
      "text/plain": [
       "<klayout.dbcore.Layout at 0x238a7106350>"
      ]
     },
     "execution_count": 56,
     "metadata": {},
     "output_type": "execute_result"
    }
   ],
   "source": [
    "# Sens Ind Logo\n",
    "\n",
    "\n",
    "filename = \"matlab masks/tile_inv_Linesholo_mat.dxf\"\n",
    "print(\"loading file: \", filename)\n",
    "\n",
    "\n",
    "# loads filename\n",
    "layout = pya.Layout()\n",
    "layout.read(filename)\n",
    "\n",
    "\n",
    "# get top cell\n",
    "top = layout.top_cell()\n",
    "\n",
    "corner_length = 500#*micro\n",
    "corner_width = 100#*micro\n",
    "\n",
    "field_width = 10000 #*micro\n",
    "field_height = 10000 #*micro\n",
    "\n",
    "\n",
    "\n",
    "trans = pya.Trans(pya.Point(0,0))\n",
    "layer = \"mask\"\n",
    "\n",
    "layer_idx = 1\n",
    "info = layout.get_info(layer_idx)\n",
    "info.name = layer\n",
    "newinfo = pya.LayerInfo(info.name)\n",
    "\n",
    "# print(info)\n",
    "layout.set_info(layer_idx, newinfo)\n",
    "\n",
    "\n",
    "\n",
    "cell = create_corners_cell(layout, field_width, field_height, corner_length, corner_width, layer)\n",
    "top.insert(pya.DCellInstArray(cell.cell_index(), trans))\n",
    "\n",
    "\n",
    "label  = os.path.splitext(filename)[0]\n",
    "label = \"P7i_Lines_mat\"\n",
    "cell = create_label_cell(layout, label, position=(-4000, -4000), rotate=False, mag=400, layer=layer)\n",
    "top.insert(pya.DCellInstArray(cell.cell_index(), trans))\n",
    "\n",
    "\n",
    "# top.flatten(-1, True)\n",
    "\n",
    "outfilename = \"P7i_Lines_mat.dxf\"\n",
    "print(\"writing file: \", outfilename)\n",
    "\n",
    "layout.write(outfilename)\n"
   ]
  },
  {
   "cell_type": "markdown",
   "metadata": {},
   "source": [
    "### Not inverted\n"
   ]
  },
  {
   "cell_type": "code",
   "execution_count": null,
   "metadata": {},
   "outputs": [],
   "source": [
    "# Sens Ind Logo\n",
    "\n",
    "\n",
    "filename = \"matlab masks/tile_Linesholo_mat.dxf\"\n",
    "print(\"loading file: \", filename)\n",
    "\n",
    "\n",
    "# loads filename\n",
    "layout = pya.Layout()\n",
    "layout.read(filename)\n",
    "\n",
    "\n",
    "# get top cell\n",
    "top = layout.top_cell()\n",
    "\n",
    "corner_length = 500#*micro\n",
    "corner_width = 100#*micro\n",
    "\n",
    "field_width = 10000 #*micro\n",
    "field_height = 10000 #*micro\n",
    "\n",
    "\n",
    "\n",
    "trans = pya.Trans(pya.Point(0,0))\n",
    "layer = \"mask\"\n",
    "\n",
    "layer_idx = 1\n",
    "info = layout.get_info(layer_idx)\n",
    "info.name = layer\n",
    "newinfo = pya.LayerInfo(info.name)\n",
    "\n",
    "# print(info)\n",
    "layout.set_info(layer_idx, newinfo)\n",
    "\n",
    "\n",
    "\n",
    "cell = create_corners_cell(layout, field_width, field_height, corner_length, corner_width, layer)\n",
    "top.insert(pya.DCellInstArray(cell.cell_index(), trans))\n",
    "\n",
    "\n",
    "label  = os.path.splitext(filename)[0]\n",
    "label = \"P7_Lines_mat\"\n",
    "cell = create_label_cell(layout, label, position=(-4000, -4000), rotate=False, mag=400, layer=layer)\n",
    "top.insert(pya.DCellInstArray(cell.cell_index(), trans))\n",
    "\n",
    "\n",
    "# top.flatten(-1, True)\n",
    "\n",
    "outfilename = \"P7_Lines_mat.dxf\"\n",
    "print(\"writing file: \", outfilename)\n",
    "\n",
    "layout.write(outfilename)\n"
   ]
  },
  {
   "cell_type": "code",
   "execution_count": 36,
   "metadata": {},
   "outputs": [
    {
     "name": "stdout",
     "output_type": "stream",
     "text": [
      "loading file:  Matlab_Dammanholo_centered_3x3_6x6mm2 instanced.dxf\n",
      "writing file:  P2_SensInd_Logo_633nm.dxf\n"
     ]
    },
    {
     "data": {
      "text/plain": [
       "<klayout.dbcore.Layout at 0x238a6dd1350>"
      ]
     },
     "execution_count": 36,
     "metadata": {},
     "output_type": "execute_result"
    }
   ],
   "source": [
    "\n",
    "\n",
    "filename = \"Matlab_Dammanholo_centered_3x3_6x6mm2 instanced.dxf\"\n",
    "\n",
    "\n",
    "# loads filename\n",
    "\n",
    "print(\"loading file: \", filename)\n",
    "layout = pya.Layout()\n",
    "layout.read(filename)\n",
    "\n",
    "\n",
    "# get top cell\n",
    "top = layout.top_cell()\n",
    "\n",
    "corner_length = 500#*micro\n",
    "corner_width = 100#*micro\n",
    "\n",
    "field_width = 10000 #*micro\n",
    "field_height = 10000 #*micro\n",
    "\n",
    "\n",
    "\n",
    "trans = pya.Trans(pya.Point(0,0))\n",
    "\n",
    "\n",
    "layer = \"mask\"\n",
    "cell = create_corners_cell(layout, field_width, field_height, corner_length, corner_width, layer)\n",
    "top.insert(pya.DCellInstArray(cell.cell_index(), trans))\n",
    "\n",
    "\n",
    "label  = os.path.splitext(filename)[0]\n",
    "label = \"P2_13x11_circles_633nm\"\n",
    "cell = create_label_cell(layout, label, position=(-4000, -4000), rotate=False, mag=400, layer=layer)\n",
    "top.insert(pya.DCellInstArray(cell.cell_index(), trans))\n",
    "\n",
    "\n",
    "# top.flatten(-1, True)\n",
    "print(\"writing file: \", outfilename)\n",
    "\n",
    "outfilename = \"P2_13x11_circles_633nm.dxf\"\n",
    "\n",
    "layout.write(outfilename)\n"
   ]
  },
  {
   "cell_type": "code",
   "execution_count": 18,
   "metadata": {},
   "outputs": [
    {
     "data": {
      "text/plain": [
       "([0, 1, 2, 3, 4, 5],\n",
       " ['0' (0/0),\n",
       "  L0D0_0,\n",
       "  dammannhorizontal,\n",
       "  dammannvertical,\n",
       "  combined (1/1),\n",
       "  corners],\n",
       " 6)"
      ]
     },
     "execution_count": 18,
     "metadata": {},
     "output_type": "execute_result"
    }
   ],
   "source": [
    "layout.layer_indexes(), layout.layer_infos(), layout.layers()"
   ]
  },
  {
   "cell_type": "code",
   "execution_count": 20,
   "metadata": {},
   "outputs": [
    {
     "ename": "AttributeError",
     "evalue": "'int' object has no attribute 'forget'",
     "output_type": "error",
     "traceback": [
      "\u001b[1;31m---------------------------------------------------------------------------\u001b[0m",
      "\u001b[1;31mAttributeError\u001b[0m                            Traceback (most recent call last)",
      "Cell \u001b[1;32mIn[20], line 2\u001b[0m\n\u001b[0;32m      1\u001b[0m \u001b[38;5;28;01mfor\u001b[39;00m idx \u001b[38;5;129;01min\u001b[39;00m layout\u001b[38;5;241m.\u001b[39mlayer_infos():\n\u001b[1;32m----> 2\u001b[0m     layout\u001b[38;5;241m.\u001b[39mlayer(idx)\u001b[38;5;241m.\u001b[39mforget()\n\u001b[0;32m      6\u001b[0m layout\u001b[38;5;241m.\u001b[39mwrite(\u001b[38;5;124m\"\u001b[39m\u001b[38;5;124mtest3.dxf\u001b[39m\u001b[38;5;124m\"\u001b[39m)\n",
      "\u001b[1;31mAttributeError\u001b[0m: 'int' object has no attribute 'forget'"
     ]
    }
   ],
   "source": [
    "for idx in layout.layer_infos():\n",
    "    layout.layer(idx).forget()\n",
    "\n",
    "\n",
    "\n",
    "layout.write(\"test3.dxf\")"
   ]
  },
  {
   "cell_type": "code",
   "execution_count": null,
   "metadata": {},
   "outputs": [],
   "source": []
  }
 ],
 "metadata": {
  "kernelspec": {
   "display_name": "base",
   "language": "python",
   "name": "python3"
  },
  "language_info": {
   "codemirror_mode": {
    "name": "ipython",
    "version": 3
   },
   "file_extension": ".py",
   "mimetype": "text/x-python",
   "name": "python",
   "nbconvert_exporter": "python",
   "pygments_lexer": "ipython3",
   "version": "3.11.5"
  }
 },
 "nbformat": 4,
 "nbformat_minor": 2
}
